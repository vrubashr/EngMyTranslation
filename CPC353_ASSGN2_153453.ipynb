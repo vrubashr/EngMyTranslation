{
  "cells": [
    {
      "cell_type": "markdown",
      "id": "c1db3444-1221-479c-a06d-97453256067a",
      "metadata": {
        "id": "c1db3444-1221-479c-a06d-97453256067a",
        "tags": []
      },
      "source": [
        "# English-Malay Semantic Retrieval"
      ]
    },
    {
      "cell_type": "code",
      "execution_count": 1,
      "id": "0c435004-f146-4b06-890f-7e9057604f57",
      "metadata": {
        "id": "0c435004-f146-4b06-890f-7e9057604f57"
      },
      "outputs": [],
      "source": [
        "import numpy as np\n",
        "import tensorflow as tf\n",
        "from tensorflow.keras import Model\n",
        "from tensorflow.keras.layers import Embedding, LSTM, Dense,Input,Flatten,Concatenate\n",
        "from tensorflow.keras.utils import to_categorical\n",
        "from tensorflow.keras.optimizers import Adam\n",
        "from keras.preprocessing.text import Tokenizer\n",
        "from keras_preprocessing import sequence\n",
        "from sklearn.metrics import accuracy_score,confusion_matrix,classification_report\n",
        "from keras.callbacks import ModelCheckpoint,EarlyStopping"
      ]
    },
    {
      "cell_type": "markdown",
      "id": "73061ba6-9b78-4db3-babc-fb471d6c8a44",
      "metadata": {
        "id": "73061ba6-9b78-4db3-babc-fb471d6c8a44",
        "tags": []
      },
      "source": [
        "## Data Pre-processing"
      ]
    },
    {
      "cell_type": "markdown",
      "id": "8a38f351-70bd-4736-91d3-1d85d8a7ccc2",
      "metadata": {
        "id": "8a38f351-70bd-4736-91d3-1d85d8a7ccc2",
        "tags": []
      },
      "source": [
        "### Loading the training dataset"
      ]
    },
    {
      "cell_type": "code",
      "execution_count": 2,
      "id": "1c50ea45-b73e-4dd2-8d2c-a720bd64d277",
      "metadata": {
        "colab": {
          "base_uri": "https://localhost:8080/"
        },
        "id": "1c50ea45-b73e-4dd2-8d2c-a720bd64d277",
        "outputId": "44bdf6d9-abfb-4c17-8c23-2881ed250e86"
      },
      "outputs": [
        {
          "output_type": "stream",
          "name": "stdout",
          "text": [
            "English training dataset contains  150000  lines\n",
            "Malay training dataset contains  150000  lines\n",
            "Classification training dataset contains  150000  lines\n"
          ]
        }
      ],
      "source": [
        "#Initializing the training list\n",
        "en_train = []\n",
        "my_train = []\n",
        "cl_train = []\n",
        "\n",
        "\n",
        "#Loading english training dataset\n",
        "file = open(\"train_en.txt\",encoding=\"utf8\")\n",
        "en_train = file.readlines()\n",
        "print(\"English training dataset contains \",len(en_train),\" lines\")\n",
        "file.close()\n",
        "\n",
        "#Loading malay training dataset\n",
        "file = open(\"train_my.txt\",encoding=\"utf8\")\n",
        "my_train = file.readlines()\n",
        "print(\"Malay training dataset contains \",len(my_train),\" lines\")\n",
        "file.close()\n",
        "\n",
        "#Loading the classification training dataset\n",
        "file = open(\"train_cl.txt\",encoding=\"utf8\")\n",
        "cl_train = file.readlines()\n",
        "print(\"Classification training dataset contains \",len(cl_train),\" lines\")\n",
        "file.close()\n",
        "\n"
      ]
    },
    {
      "cell_type": "markdown",
      "id": "3b4ec009-87af-4c7d-929a-c54b4c457301",
      "metadata": {
        "id": "3b4ec009-87af-4c7d-929a-c54b4c457301",
        "tags": []
      },
      "source": [
        "### Loading the testing dataset"
      ]
    },
    {
      "cell_type": "code",
      "execution_count": 3,
      "id": "301e01d6-7528-4499-b54c-0c6dabe5b8af",
      "metadata": {
        "colab": {
          "base_uri": "https://localhost:8080/"
        },
        "id": "301e01d6-7528-4499-b54c-0c6dabe5b8af",
        "outputId": "59389181-4f98-45bb-f716-e41b78468459"
      },
      "outputs": [
        {
          "output_type": "stream",
          "name": "stdout",
          "text": [
            "English testing dataset contains  40000  lines\n",
            "Malay testing dataset contains  40000  lines\n",
            "Classification testing dataset contains  40000  lines\n"
          ]
        }
      ],
      "source": [
        "#Initializing the testing list\n",
        "en_test = []\n",
        "my_test = []\n",
        "cl_test = []\n",
        "\n",
        "#Loading english testing dataset\n",
        "file = open(\"test_en.txt\",encoding=\"utf8\")\n",
        "en_test = file.readlines()\n",
        "print(\"English testing dataset contains \",len(en_test),\" lines\")\n",
        "file.close()\n",
        "\n",
        "#Loading malay testing dataset\n",
        "file = open(\"test_my.txt\",encoding=\"utf8\")\n",
        "my_test = file.readlines()\n",
        "print(\"Malay testing dataset contains \",len(my_test),\" lines\")\n",
        "file.close()\n",
        "\n",
        "#Loading the classification testing dataset\n",
        "file = open(\"test_cl.txt\",encoding=\"utf8\")\n",
        "cl_test = file.readlines()\n",
        "print(\"Classification testing dataset contains \",len(cl_test),\" lines\")\n",
        "file.close()"
      ]
    },
    {
      "cell_type": "markdown",
      "id": "2c5c17c9-e826-4ab7-91c2-b4372f23d98f",
      "metadata": {
        "id": "2c5c17c9-e826-4ab7-91c2-b4372f23d98f",
        "tags": []
      },
      "source": [
        "### Loading the validation dataset"
      ]
    },
    {
      "cell_type": "code",
      "execution_count": 4,
      "id": "f54648b5-d208-4288-84e4-cc92b051eb7d",
      "metadata": {
        "colab": {
          "base_uri": "https://localhost:8080/"
        },
        "id": "f54648b5-d208-4288-84e4-cc92b051eb7d",
        "outputId": "5bd939e1-4abb-4a75-a80e-5c78758a2d34"
      },
      "outputs": [
        {
          "output_type": "stream",
          "name": "stdout",
          "text": [
            "English validation dataset contains  45930  lines\n",
            "Malay validation dataset contains  45930  lines\n",
            "Classification validation dataset contains  45930  lines\n"
          ]
        }
      ],
      "source": [
        "#Initializing the validation list\n",
        "en_dev = []\n",
        "my_dev = []\n",
        "cl_dev = []\n",
        "\n",
        "#Loading english validation dataset\n",
        "file = open(\"dev_en.txt\",encoding=\"utf8\")\n",
        "en_dev = file.readlines()\n",
        "print(\"English validation dataset contains \",len(en_dev),\" lines\")\n",
        "file.close()\n",
        "\n",
        "#Loading malay validation dataset\n",
        "file = open(\"dev_my.txt\",encoding=\"utf8\")\n",
        "my_dev = file.readlines()\n",
        "print(\"Malay validation dataset contains \",len(my_dev),\" lines\")\n",
        "file.close()\n",
        "\n",
        "#Loading the classification validation dataset\n",
        "file = open(\"dev_cl.txt\",encoding=\"utf8\")\n",
        "cl_dev = file.readlines()\n",
        "print(\"Classification validation dataset contains \",len(cl_dev),\" lines\")\n",
        "file.close()"
      ]
    },
    {
      "cell_type": "markdown",
      "id": "505ffbd1-45c6-40b6-9399-b74f3cc9b5aa",
      "metadata": {
        "id": "505ffbd1-45c6-40b6-9399-b74f3cc9b5aa",
        "tags": []
      },
      "source": [
        "### Tokenizing English dataset"
      ]
    },
    {
      "cell_type": "code",
      "execution_count": 5,
      "id": "96314680-84a0-4c26-bc01-a84d511410e1",
      "metadata": {
        "colab": {
          "base_uri": "https://localhost:8080/"
        },
        "id": "96314680-84a0-4c26-bc01-a84d511410e1",
        "outputId": "65ce466a-9417-449c-bb85-d2fafcb4969c"
      },
      "outputs": [
        {
          "output_type": "stream",
          "name": "stdout",
          "text": [
            "Total unique word in the English training dataset is  39908\n",
            "Length of longest sentence in input is  136 \n",
            "\n",
            "Total unique word in the English testing dataset is  23413\n",
            "Length of longest sentence in input is  77 \n",
            "\n",
            "Total unique word in the English validation dataset is  11580\n",
            "Length of longest sentence in input is  82\n"
          ]
        }
      ],
      "source": [
        "#Tokenizing training dataset\n",
        "tokenizer = Tokenizer()\n",
        "tokenizer.fit_on_texts(en_train)\n",
        "en_train_seq = tokenizer.texts_to_sequences(en_train)\n",
        "en_train_index = tokenizer.word_index\n",
        "print(\"Total unique word in the English training dataset is \", len(en_train_index))\n",
        "max_en_train = max(len(sentences) for sentences in en_train_seq)\n",
        "print(\"Length of longest sentence in input is \", max_en_train ,\"\\n\")\n",
        "\n",
        "#Tokenizing testing dataset\n",
        "tokenizer = Tokenizer()\n",
        "tokenizer.fit_on_texts(en_test)\n",
        "en_test_seq = tokenizer.texts_to_sequences(en_test)\n",
        "en_test_index = tokenizer.word_index\n",
        "print(\"Total unique word in the English testing dataset is \", len(en_test_index))\n",
        "max_en_test = max(len(sentences) for sentences in en_test_seq)\n",
        "print(\"Length of longest sentence in input is \", max_en_test,\"\\n\")\n",
        "\n",
        "#Tokenizing validation dataset\n",
        "tokenizer = Tokenizer()\n",
        "tokenizer.fit_on_texts(en_dev)\n",
        "en_dev_seq = tokenizer.texts_to_sequences(en_dev)\n",
        "en_dev_index = tokenizer.word_index\n",
        "print(\"Total unique word in the English validation dataset is \", len(en_dev_index))\n",
        "max_en_dev = max(len(sentences) for sentences in en_dev_seq)\n",
        "print(\"Length of longest sentence in input is \", max_en_dev)"
      ]
    },
    {
      "cell_type": "markdown",
      "id": "54e04fb6-0268-46e6-b582-5093f1aaf886",
      "metadata": {
        "id": "54e04fb6-0268-46e6-b582-5093f1aaf886",
        "tags": []
      },
      "source": [
        "### Tokenizing Malay dataset"
      ]
    },
    {
      "cell_type": "code",
      "execution_count": 7,
      "id": "87cf327e-47c8-473d-bd51-0867bd34ee73",
      "metadata": {
        "colab": {
          "base_uri": "https://localhost:8080/"
        },
        "id": "87cf327e-47c8-473d-bd51-0867bd34ee73",
        "outputId": "3f2d7e50-0ef0-4085-a2a9-90a8b03455f3"
      },
      "outputs": [
        {
          "output_type": "stream",
          "name": "stdout",
          "text": [
            "Total unique word in the Malay training dataset is  23279\n",
            "Number of words in Malay training dataset:  23280\n",
            "Length of longest sentence in input is  286 \n",
            "\n",
            "Total unique word in the Malay testing dataset is  13224\n",
            "Number of words in Malay testing dataset:  13225\n",
            "Length of longest sentence in input is  75 \n",
            "\n",
            "Total unique word in the Malay validation dataset is  12562\n",
            "Number of words in Malay validation dataset:  12563\n",
            "Length of longest sentence in input is  77\n"
          ]
        }
      ],
      "source": [
        "#Tokenizing training dataset\n",
        "tokenizer = Tokenizer()\n",
        "tokenizer.fit_on_texts(my_train)\n",
        "my_train_seq = tokenizer.texts_to_sequences(my_train)\n",
        "my_train_index = tokenizer.word_index\n",
        "print(\"Total unique word in the Malay training dataset is \", len(my_train_index))\n",
        "max_my_train = max(len(sentences) for sentences in my_train_seq)\n",
        "my_train_numWords = len(my_train_index)+1\n",
        "print(\"Number of words in Malay training dataset: \",my_train_numWords)\n",
        "print(\"Length of longest sentence in input is \", max_my_train ,\"\\n\")\n",
        "\n",
        "\n",
        "#Tokenizing testing dataset\n",
        "tokenizer = Tokenizer()\n",
        "tokenizer.fit_on_texts(my_test)\n",
        "my_test_seq = tokenizer.texts_to_sequences(my_test)\n",
        "my_test_index = tokenizer.word_index\n",
        "print(\"Total unique word in the Malay testing dataset is \", len(my_test_index))\n",
        "my_test_numWords = len(my_test_index)+1\n",
        "print(\"Number of words in Malay testing dataset: \",my_test_numWords)\n",
        "max_my_test = max(len(sentences) for sentences in my_test_seq)\n",
        "print(\"Length of longest sentence in input is \", max_my_test,\"\\n\")\n",
        "\n",
        "\n",
        "#Tokenizing validation dataset\n",
        "tokenizer = Tokenizer()\n",
        "tokenizer.fit_on_texts(my_dev)\n",
        "my_dev_seq = tokenizer.texts_to_sequences(my_dev)\n",
        "my_dev_index = tokenizer.word_index\n",
        "print(\"Total unique word in the Malay validation dataset is \", len(my_dev_index))\n",
        "my_dev_numWords = len(my_dev_index)+1\n",
        "print(\"Number of words in Malay validation dataset: \",my_dev_numWords)\n",
        "max_my_dev = max(len(sentences) for sentences in my_dev_seq)\n",
        "print(\"Length of longest sentence in input is \", max_my_dev)"
      ]
    },
    {
      "cell_type": "markdown",
      "id": "WeKVS9_NIK7W",
      "metadata": {
        "id": "WeKVS9_NIK7W"
      },
      "source": [
        "### Initializing the parameters"
      ]
    },
    {
      "cell_type": "code",
      "execution_count": 15,
      "id": "6109e291-a727-487c-9570-e80efaff75cc",
      "metadata": {
        "id": "6109e291-a727-487c-9570-e80efaff75cc"
      },
      "outputs": [],
      "source": [
        "BATCH_SIZE = 256\n",
        "EPOCHS = 50\n",
        "EMBEDDING_SIZE = 100\n",
        "\n",
        "#Setting a max length based on the longest sentence in the dataset.\n",
        "MAX_WORDS = 300"
      ]
    },
    {
      "cell_type": "markdown",
      "id": "c8b7833a-a336-475e-a6ef-fadb2e58b415",
      "metadata": {
        "id": "c8b7833a-a336-475e-a6ef-fadb2e58b415",
        "tags": []
      },
      "source": [
        "### Padding English Dataset"
      ]
    },
    {
      "cell_type": "code",
      "execution_count": 9,
      "id": "e9eec0d1-8cc4-4028-9ffe-469d2d18a4d8",
      "metadata": {
        "colab": {
          "base_uri": "https://localhost:8080/"
        },
        "id": "e9eec0d1-8cc4-4028-9ffe-469d2d18a4d8",
        "outputId": "d5dd0c6e-470d-4a4d-d7dc-7710d00aeab4"
      },
      "outputs": [
        {
          "output_type": "stream",
          "name": "stdout",
          "text": [
            "The shape of English training input data:  (150000, 300)\n",
            "The shape of English testing input data:  (40000, 300)\n",
            "The shape of English validation input data:  (45930, 300)\n"
          ]
        }
      ],
      "source": [
        "#Padding the english train dataset\n",
        "en_train_padded = sequence.pad_sequences(en_train_seq, maxlen=MAX_WORDS)\n",
        "print(\"The shape of English training input data: \",en_train_padded.shape)\n",
        "\n",
        "#Padding the english test dataset\n",
        "en_test_padded = sequence.pad_sequences(en_test_seq, maxlen=MAX_WORDS)\n",
        "print(\"The shape of English testing input data: \",en_test_padded.shape)\n",
        "\n",
        "#Padding the english dev dataset\n",
        "en_dev_padded = sequence.pad_sequences(en_dev_seq, maxlen=MAX_WORDS)\n",
        "print(\"The shape of English validation input data: \",en_dev_padded.shape)"
      ]
    },
    {
      "cell_type": "markdown",
      "id": "4cee4351-4f94-445b-bbc0-3b20b7e4b8f3",
      "metadata": {
        "id": "4cee4351-4f94-445b-bbc0-3b20b7e4b8f3",
        "tags": []
      },
      "source": [
        "### Padding Malay Dataset"
      ]
    },
    {
      "cell_type": "code",
      "execution_count": 10,
      "id": "c6e3eb1c-5533-452d-9360-2af3cd3dcaca",
      "metadata": {
        "colab": {
          "base_uri": "https://localhost:8080/"
        },
        "id": "c6e3eb1c-5533-452d-9360-2af3cd3dcaca",
        "outputId": "9a8633dc-4f7d-4821-f84c-139bc040ada8"
      },
      "outputs": [
        {
          "output_type": "stream",
          "name": "stdout",
          "text": [
            "The shape of Malay training input data:  (150000, 300)\n",
            "The shape of Malay testing input data:  (40000, 300)\n",
            "The shape of Malay validation input data:  (45930, 300)\n"
          ]
        }
      ],
      "source": [
        "#Padding the english train dataset\n",
        "my_train_padded = sequence.pad_sequences(my_train_seq, maxlen=MAX_WORDS,padding='post')\n",
        "print(\"The shape of Malay training input data: \",my_train_padded.shape)\n",
        "\n",
        "#Padding the english test dataset\n",
        "my_test_padded = sequence.pad_sequences(en_test_seq, maxlen=MAX_WORDS,padding='post')\n",
        "print(\"The shape of Malay testing input data: \",my_test_padded.shape)\n",
        "\n",
        "#Padding the english validation dataset\n",
        "my_dev_padded = sequence.pad_sequences(en_dev_seq, maxlen=MAX_WORDS,padding='post')\n",
        "print(\"The shape of Malay validation input data: \",my_dev_padded.shape)"
      ]
    },
    {
      "cell_type": "markdown",
      "id": "32d95e64-0642-435c-88d8-007137bb0530",
      "metadata": {
        "id": "32d95e64-0642-435c-88d8-007137bb0530",
        "tags": []
      },
      "source": [
        "## English Word Embeddings"
      ]
    },
    {
      "cell_type": "code",
      "execution_count": 11,
      "id": "2ef768c1-2c6b-445f-8d71-bb0e76ce2d8b",
      "metadata": {
        "colab": {
          "base_uri": "https://localhost:8080/"
        },
        "id": "2ef768c1-2c6b-445f-8d71-bb0e76ce2d8b",
        "outputId": "4d9d46e5-d6e6-4145-cb6d-48ece35da4ae"
      },
      "outputs": [
        {
          "output_type": "stream",
          "name": "stdout",
          "text": [
            "Shape of the word embedding dictionary:  (39909, 100)\n"
          ]
        }
      ],
      "source": [
        "embedding_dict = dict()\n",
        "\n",
        "glove_dict = open(\"glove.6B.100d.txt\",encoding=\"utf8\")\n",
        "\n",
        "for line in glove_dict:\n",
        "    record=line.split()\n",
        "    word=record[0]\n",
        "    vector=np.asarray(record[1:])\n",
        "    embedding_dict[word]=vector    \n",
        "glove_dict.close()\n",
        "\n",
        "num_words_en= len(en_train_index) + 1\n",
        "embedding_matrix_en = np.zeros((num_words_en, EMBEDDING_SIZE))\n",
        "for word, index in en_train_index.items():\n",
        "    embedding_vector = embedding_dict.get(word)\n",
        "    if embedding_vector is not None:\n",
        "        embedding_matrix_en[index] = embedding_vector\n",
        "        \n",
        "print(\"Shape of the word embedding dictionary: \",embedding_matrix_en.shape)"
      ]
    },
    {
      "cell_type": "markdown",
      "id": "d5a82ed4-a14f-48ee-a25a-e025fc84b943",
      "metadata": {
        "id": "d5a82ed4-a14f-48ee-a25a-e025fc84b943"
      },
      "source": [
        "## Malay Word Embeddings"
      ]
    },
    {
      "cell_type": "code",
      "execution_count": 12,
      "id": "35921df7-4743-4973-8f3f-71adc7bcc3ef",
      "metadata": {
        "colab": {
          "base_uri": "https://localhost:8080/"
        },
        "id": "35921df7-4743-4973-8f3f-71adc7bcc3ef",
        "outputId": "53ebba67-df69-465b-dd69-f193524351c3"
      },
      "outputs": [
        {
          "output_type": "stream",
          "name": "stdout",
          "text": [
            "Shape of the word embedding dictionary:  (23280, 100)\n"
          ]
        }
      ],
      "source": [
        "embedding_dict_my = dict()\n",
        "\n",
        "dict_my = open(\"malay_dict.json\",encoding=\"utf8\")\n",
        "\n",
        "for line in dict_my:\n",
        "    record=line.split()\n",
        "    word=record[0]\n",
        "    vector=np.asarray(record[1:])\n",
        "    embedding_dict_my[word]=vector \n",
        "    \n",
        "dict_my.close()\n",
        "\n",
        "num_words_my= len(my_train_index) + 1\n",
        "embedding_matrix_my = np.zeros((num_words_my, EMBEDDING_SIZE))\n",
        "for word, index in my_train_index.items():\n",
        "    embedding_vector_my = embedding_dict_my.get(word)\n",
        "    if embedding_vector_my is not None:\n",
        "        embedding_matrix_my[index] = embedding_vector_my\n",
        "        \n",
        "print(\"Shape of the word embedding dictionary: \",embedding_matrix_my.shape)\n"
      ]
    },
    {
      "cell_type": "markdown",
      "id": "2ec0944b-fa12-4246-831b-676ab3a87c78",
      "metadata": {
        "id": "2ec0944b-fa12-4246-831b-676ab3a87c78"
      },
      "source": [
        "## Creating Model"
      ]
    },
    {
      "cell_type": "markdown",
      "id": "93992619-9572-48f7-88ed-4d5bc806acdc",
      "metadata": {
        "id": "93992619-9572-48f7-88ed-4d5bc806acdc"
      },
      "source": [
        "### KERAS FUNCTIONAL API METHOD"
      ]
    },
    {
      "cell_type": "code",
      "execution_count": 21,
      "id": "69522385-03c7-40c2-bbb6-464a38e7d6e6",
      "metadata": {
        "colab": {
          "base_uri": "https://localhost:8080/"
        },
        "id": "69522385-03c7-40c2-bbb6-464a38e7d6e6",
        "outputId": "2ad5526c-cda6-4805-92bd-4cbf819b305b"
      },
      "outputs": [
        {
          "output_type": "stream",
          "name": "stdout",
          "text": [
            "Model: \"model_2\"\n",
            "__________________________________________________________________________________________________\n",
            " Layer (type)                   Output Shape         Param #     Connected to                     \n",
            "==================================================================================================\n",
            " input_5 (InputLayer)           [(None, 300)]        0           []                               \n",
            "                                                                                                  \n",
            " input_6 (InputLayer)           [(None, 300)]        0           []                               \n",
            "                                                                                                  \n",
            " embedding_4 (Embedding)        (None, 300, 100)     3990900     ['input_5[0][0]']                \n",
            "                                                                                                  \n",
            " embedding_5 (Embedding)        (None, 300, 100)     2328000     ['input_6[0][0]']                \n",
            "                                                                                                  \n",
            " lstm_2 (LSTM)                  [(None, 256),        365568      ['embedding_4[0][0]',            \n",
            "                                 (None, 256),                     'embedding_5[0][0]']            \n",
            "                                 (None, 256)]                                                     \n",
            "                                                                                                  \n",
            " flatten_4 (Flatten)            (None, 256)          0           ['lstm_2[0][0]']                 \n",
            "                                                                                                  \n",
            " flatten_5 (Flatten)            (None, 256)          0           ['lstm_2[1][0]']                 \n",
            "                                                                                                  \n",
            " concatenate_2 (Concatenate)    (None, 512)          0           ['flatten_4[0][0]',              \n",
            "                                                                  'flatten_5[0][0]']              \n",
            "                                                                                                  \n",
            " dense_2 (Dense)                (None, 2)            1026        ['concatenate_2[0][0]']          \n",
            "                                                                                                  \n",
            "==================================================================================================\n",
            "Total params: 6,685,494\n",
            "Trainable params: 6,685,494\n",
            "Non-trainable params: 0\n",
            "__________________________________________________________________________________________________\n"
          ]
        }
      ],
      "source": [
        "input_en = Input(shape=(MAX_WORDS,))\n",
        "input_my = Input(shape=(MAX_WORDS,))\n",
        "embed_en = Embedding(num_words_en,EMBEDDING_SIZE, weights=[embedding_matrix_en], input_length=MAX_WORDS)(input_en)\n",
        "embed_my = Embedding(num_words_my,EMBEDDING_SIZE,weights=[embedding_matrix_my], input_length=MAX_WORDS)(input_my)\n",
        "\n",
        "lstm = LSTM(256, return_state=True)\n",
        "outputs_en, state_h_en, state_c_en = lstm(embed_en)\n",
        "outputs_my, state_h_my, state_c_my = lstm(embed_my)\n",
        "\n",
        "flat_en = Flatten()(outputs_en)\n",
        "flat_my = Flatten()(outputs_my)\n",
        "merge = Concatenate(axis = 1)([flat_en, flat_my])\n",
        "\n",
        "outputs = Dense(2, activation='sigmoid')(merge)\n",
        "model = Model(inputs=[input_en, input_my], outputs=outputs)\n",
        "model.compile(optimizer='adam', loss='categorical_crossentropy', metrics=['accuracy'])\n",
        "model.summary()"
      ]
    },
    {
      "cell_type": "markdown",
      "id": "bx-6CuOs1imO",
      "metadata": {
        "id": "bx-6CuOs1imO"
      },
      "source": [
        "## Training the model"
      ]
    },
    {
      "cell_type": "code",
      "execution_count": 22,
      "id": "9536cdbc-e9c5-419a-aed8-3107ed774c76",
      "metadata": {
        "colab": {
          "base_uri": "https://localhost:8080/"
        },
        "id": "9536cdbc-e9c5-419a-aed8-3107ed774c76",
        "outputId": "1f9695c4-f29f-4ba9-954a-3efbc4d3e806"
      },
      "outputs": [
        {
          "output_type": "stream",
          "name": "stderr",
          "text": [
            "WARNING:tensorflow:`period` argument is deprecated. Please use `save_freq` to specify the frequency in number of batches seen.\n"
          ]
        },
        {
          "output_type": "stream",
          "name": "stdout",
          "text": [
            "Epoch 1/50\n",
            "586/586 [==============================] - ETA: 0s - loss: 0.5525 - accuracy: 0.6987\n",
            "Epoch 1: val_accuracy improved from -inf to 0.50353, saving model to saved_model.hdf5\n",
            "586/586 [==============================] - 91s 150ms/step - loss: 0.5525 - accuracy: 0.6987 - val_loss: 0.9357 - val_accuracy: 0.5035\n",
            "Epoch 2/50\n",
            "586/586 [==============================] - ETA: 0s - loss: 0.4757 - accuracy: 0.7627\n",
            "Epoch 2: val_accuracy improved from 0.50353 to 0.50464, saving model to saved_model.hdf5\n",
            "586/586 [==============================] - 87s 148ms/step - loss: 0.4757 - accuracy: 0.7627 - val_loss: 0.9899 - val_accuracy: 0.5046\n",
            "Epoch 3/50\n",
            "586/586 [==============================] - ETA: 0s - loss: 0.4432 - accuracy: 0.7881\n",
            "Epoch 3: val_accuracy did not improve from 0.50464\n",
            "586/586 [==============================] - 87s 148ms/step - loss: 0.4432 - accuracy: 0.7881 - val_loss: 1.0115 - val_accuracy: 0.5040\n",
            "Epoch 4/50\n",
            "586/586 [==============================] - ETA: 0s - loss: 0.4217 - accuracy: 0.7994\n",
            "Epoch 4: val_accuracy did not improve from 0.50464\n",
            "586/586 [==============================] - 87s 148ms/step - loss: 0.4217 - accuracy: 0.7994 - val_loss: 1.1086 - val_accuracy: 0.5021\n",
            "Epoch 5/50\n",
            "586/586 [==============================] - ETA: 0s - loss: 0.4053 - accuracy: 0.8067\n",
            "Epoch 5: val_accuracy did not improve from 0.50464\n",
            "586/586 [==============================] - 87s 148ms/step - loss: 0.4053 - accuracy: 0.8067 - val_loss: 1.1049 - val_accuracy: 0.5036\n",
            "Epoch 6/50\n",
            "586/586 [==============================] - ETA: 0s - loss: 0.3899 - accuracy: 0.8117\n",
            "Epoch 6: val_accuracy did not improve from 0.50464\n",
            "586/586 [==============================] - 87s 148ms/step - loss: 0.3899 - accuracy: 0.8117 - val_loss: 1.1612 - val_accuracy: 0.5032\n",
            "Epoch 7/50\n",
            "586/586 [==============================] - ETA: 0s - loss: 0.3758 - accuracy: 0.8157\n",
            "Epoch 7: val_accuracy did not improve from 0.50464\n",
            "586/586 [==============================] - 87s 148ms/step - loss: 0.3758 - accuracy: 0.8157 - val_loss: 1.2261 - val_accuracy: 0.5028\n",
            "Epoch 8/50\n",
            "586/586 [==============================] - ETA: 0s - loss: 0.3638 - accuracy: 0.8182\n",
            "Epoch 8: val_accuracy did not improve from 0.50464\n",
            "586/586 [==============================] - 87s 149ms/step - loss: 0.3638 - accuracy: 0.8182 - val_loss: 1.2302 - val_accuracy: 0.5028\n",
            "Epoch 9/50\n",
            "586/586 [==============================] - ETA: 0s - loss: 0.3528 - accuracy: 0.8216\n",
            "Epoch 9: val_accuracy did not improve from 0.50464\n",
            "586/586 [==============================] - 87s 149ms/step - loss: 0.3528 - accuracy: 0.8216 - val_loss: 1.2464 - val_accuracy: 0.5045\n",
            "Epoch 10/50\n",
            "586/586 [==============================] - ETA: 0s - loss: 0.3421 - accuracy: 0.8236\n",
            "Epoch 10: val_accuracy improved from 0.50464 to 0.50468, saving model to saved_model.hdf5\n",
            "586/586 [==============================] - 88s 150ms/step - loss: 0.3421 - accuracy: 0.8236 - val_loss: 1.4373 - val_accuracy: 0.5047\n",
            "Epoch 11/50\n",
            "586/586 [==============================] - ETA: 0s - loss: 0.3339 - accuracy: 0.8259\n",
            "Epoch 11: val_accuracy did not improve from 0.50468\n",
            "586/586 [==============================] - 88s 150ms/step - loss: 0.3339 - accuracy: 0.8259 - val_loss: 1.5274 - val_accuracy: 0.5043\n",
            "Epoch 12/50\n",
            "586/586 [==============================] - ETA: 0s - loss: 0.3253 - accuracy: 0.8269\n",
            "Epoch 12: val_accuracy did not improve from 0.50468\n",
            "586/586 [==============================] - 87s 149ms/step - loss: 0.3253 - accuracy: 0.8269 - val_loss: 1.6670 - val_accuracy: 0.5038\n",
            "Epoch 13/50\n",
            "586/586 [==============================] - ETA: 0s - loss: 0.3190 - accuracy: 0.8277\n",
            "Epoch 13: val_accuracy did not improve from 0.50468\n",
            "586/586 [==============================] - 86s 148ms/step - loss: 0.3190 - accuracy: 0.8277 - val_loss: 1.6723 - val_accuracy: 0.5043\n",
            "Epoch 14/50\n",
            "586/586 [==============================] - ETA: 0s - loss: 0.3116 - accuracy: 0.8292\n",
            "Epoch 14: val_accuracy did not improve from 0.50468\n",
            "586/586 [==============================] - 87s 148ms/step - loss: 0.3116 - accuracy: 0.8292 - val_loss: 1.7900 - val_accuracy: 0.5042\n",
            "Epoch 15/50\n",
            "586/586 [==============================] - ETA: 0s - loss: 0.3023 - accuracy: 0.8310\n",
            "Epoch 15: val_accuracy did not improve from 0.50468\n",
            "586/586 [==============================] - 86s 147ms/step - loss: 0.3023 - accuracy: 0.8310 - val_loss: 1.7320 - val_accuracy: 0.5040\n",
            "Epoch 16/50\n",
            "586/586 [==============================] - ETA: 0s - loss: 0.2961 - accuracy: 0.8316\n",
            "Epoch 16: val_accuracy did not improve from 0.50468\n",
            "586/586 [==============================] - 86s 147ms/step - loss: 0.2961 - accuracy: 0.8316 - val_loss: 1.8841 - val_accuracy: 0.5043\n",
            "Epoch 17/50\n",
            "586/586 [==============================] - ETA: 0s - loss: 0.2899 - accuracy: 0.8348\n",
            "Epoch 17: val_accuracy did not improve from 0.50468\n",
            "586/586 [==============================] - 87s 148ms/step - loss: 0.2899 - accuracy: 0.8348 - val_loss: 1.9746 - val_accuracy: 0.5033\n",
            "Epoch 18/50\n",
            "586/586 [==============================] - ETA: 0s - loss: 0.2853 - accuracy: 0.8371\n",
            "Epoch 18: val_accuracy did not improve from 0.50468\n",
            "586/586 [==============================] - 86s 147ms/step - loss: 0.2853 - accuracy: 0.8371 - val_loss: 1.9795 - val_accuracy: 0.5039\n",
            "Epoch 19/50\n",
            "586/586 [==============================] - ETA: 0s - loss: 0.2818 - accuracy: 0.8336\n",
            "Epoch 19: val_accuracy did not improve from 0.50468\n",
            "586/586 [==============================] - 86s 146ms/step - loss: 0.2818 - accuracy: 0.8336 - val_loss: 2.0222 - val_accuracy: 0.5036\n",
            "Epoch 20/50\n",
            "586/586 [==============================] - ETA: 0s - loss: 0.2782 - accuracy: 0.8339\n",
            "Epoch 20: val_accuracy improved from 0.50468 to 0.50520, saving model to saved_model.hdf5\n",
            "586/586 [==============================] - 86s 146ms/step - loss: 0.2782 - accuracy: 0.8339 - val_loss: 2.3348 - val_accuracy: 0.5052\n",
            "Epoch 21/50\n",
            "586/586 [==============================] - ETA: 0s - loss: 0.2746 - accuracy: 0.8353\n",
            "Epoch 21: val_accuracy did not improve from 0.50520\n",
            "586/586 [==============================] - 86s 146ms/step - loss: 0.2746 - accuracy: 0.8353 - val_loss: 2.2303 - val_accuracy: 0.5043\n",
            "Epoch 22/50\n",
            "586/586 [==============================] - ETA: 0s - loss: 0.2719 - accuracy: 0.8351\n",
            "Epoch 22: val_accuracy did not improve from 0.50520\n",
            "586/586 [==============================] - 86s 147ms/step - loss: 0.2719 - accuracy: 0.8351 - val_loss: 2.3765 - val_accuracy: 0.5024\n",
            "Epoch 23/50\n",
            "586/586 [==============================] - ETA: 0s - loss: 0.2688 - accuracy: 0.8360\n",
            "Epoch 23: val_accuracy did not improve from 0.50520\n",
            "586/586 [==============================] - 86s 147ms/step - loss: 0.2688 - accuracy: 0.8360 - val_loss: 2.2986 - val_accuracy: 0.5033\n",
            "Epoch 24/50\n",
            "586/586 [==============================] - ETA: 0s - loss: 0.2664 - accuracy: 0.8372\n",
            "Epoch 24: val_accuracy did not improve from 0.50520\n",
            "586/586 [==============================] - 86s 147ms/step - loss: 0.2664 - accuracy: 0.8372 - val_loss: 2.1965 - val_accuracy: 0.5033\n",
            "Epoch 25/50\n",
            "586/586 [==============================] - ETA: 0s - loss: 0.2635 - accuracy: 0.8368\n",
            "Epoch 25: val_accuracy did not improve from 0.50520\n",
            "586/586 [==============================] - 86s 147ms/step - loss: 0.2635 - accuracy: 0.8368 - val_loss: 2.2874 - val_accuracy: 0.5034\n",
            "Epoch 26/50\n",
            "586/586 [==============================] - ETA: 0s - loss: 0.2613 - accuracy: 0.8380\n",
            "Epoch 26: val_accuracy did not improve from 0.50520\n",
            "586/586 [==============================] - 86s 147ms/step - loss: 0.2613 - accuracy: 0.8380 - val_loss: 2.3792 - val_accuracy: 0.5029\n",
            "Epoch 27/50\n",
            "586/586 [==============================] - ETA: 0s - loss: 0.2591 - accuracy: 0.8376\n",
            "Epoch 27: val_accuracy did not improve from 0.50520\n",
            "586/586 [==============================] - 86s 147ms/step - loss: 0.2591 - accuracy: 0.8376 - val_loss: 2.2451 - val_accuracy: 0.5038\n",
            "Epoch 28/50\n",
            "586/586 [==============================] - ETA: 0s - loss: 0.2577 - accuracy: 0.8376\n",
            "Epoch 28: val_accuracy did not improve from 0.50520\n",
            "586/586 [==============================] - 86s 147ms/step - loss: 0.2577 - accuracy: 0.8376 - val_loss: 2.3639 - val_accuracy: 0.5042\n",
            "Epoch 29/50\n",
            "586/586 [==============================] - ETA: 0s - loss: 0.2550 - accuracy: 0.8382\n",
            "Epoch 29: val_accuracy did not improve from 0.50520\n",
            "586/586 [==============================] - 86s 147ms/step - loss: 0.2550 - accuracy: 0.8382 - val_loss: 2.4530 - val_accuracy: 0.5024\n",
            "Epoch 30/50\n",
            "586/586 [==============================] - ETA: 0s - loss: 0.2533 - accuracy: 0.8383\n",
            "Epoch 30: val_accuracy did not improve from 0.50520\n",
            "586/586 [==============================] - 87s 148ms/step - loss: 0.2533 - accuracy: 0.8383 - val_loss: 2.3321 - val_accuracy: 0.5046\n",
            "Epoch 31/50\n",
            "586/586 [==============================] - ETA: 0s - loss: 0.2522 - accuracy: 0.8390\n",
            "Epoch 31: val_accuracy did not improve from 0.50520\n",
            "586/586 [==============================] - 86s 147ms/step - loss: 0.2522 - accuracy: 0.8390 - val_loss: 2.4710 - val_accuracy: 0.5047\n",
            "Epoch 32/50\n",
            "586/586 [==============================] - ETA: 0s - loss: 0.2512 - accuracy: 0.8391\n",
            "Epoch 32: val_accuracy did not improve from 0.50520\n",
            "586/586 [==============================] - 86s 147ms/step - loss: 0.2512 - accuracy: 0.8391 - val_loss: 2.5602 - val_accuracy: 0.5041\n",
            "Epoch 33/50\n",
            "586/586 [==============================] - ETA: 0s - loss: 0.2486 - accuracy: 0.8398\n",
            "Epoch 33: val_accuracy did not improve from 0.50520\n",
            "586/586 [==============================] - 86s 147ms/step - loss: 0.2486 - accuracy: 0.8398 - val_loss: 2.6946 - val_accuracy: 0.5047\n",
            "Epoch 34/50\n",
            "586/586 [==============================] - ETA: 0s - loss: 0.2469 - accuracy: 0.8406\n",
            "Epoch 34: val_accuracy did not improve from 0.50520\n",
            "586/586 [==============================] - 86s 147ms/step - loss: 0.2469 - accuracy: 0.8406 - val_loss: 2.6209 - val_accuracy: 0.5028\n",
            "Epoch 35/50\n",
            "586/586 [==============================] - ETA: 0s - loss: 0.2462 - accuracy: 0.8413\n",
            "Epoch 35: val_accuracy did not improve from 0.50520\n",
            "586/586 [==============================] - 86s 147ms/step - loss: 0.2462 - accuracy: 0.8413 - val_loss: 2.4299 - val_accuracy: 0.5037\n",
            "Epoch 36/50\n",
            "586/586 [==============================] - ETA: 0s - loss: 0.2442 - accuracy: 0.8412\n",
            "Epoch 36: val_accuracy improved from 0.50520 to 0.50568, saving model to saved_model.hdf5\n",
            "586/586 [==============================] - 86s 147ms/step - loss: 0.2442 - accuracy: 0.8412 - val_loss: 2.6200 - val_accuracy: 0.5057\n",
            "Epoch 37/50\n",
            "586/586 [==============================] - ETA: 0s - loss: 0.2421 - accuracy: 0.8422\n",
            "Epoch 37: val_accuracy did not improve from 0.50568\n",
            "586/586 [==============================] - 86s 147ms/step - loss: 0.2421 - accuracy: 0.8422 - val_loss: 2.5638 - val_accuracy: 0.5045\n",
            "Epoch 38/50\n",
            "586/586 [==============================] - ETA: 0s - loss: 0.2407 - accuracy: 0.8425\n",
            "Epoch 38: val_accuracy did not improve from 0.50568\n",
            "586/586 [==============================] - 86s 147ms/step - loss: 0.2407 - accuracy: 0.8425 - val_loss: 2.4763 - val_accuracy: 0.5047\n",
            "Epoch 39/50\n",
            "586/586 [==============================] - ETA: 0s - loss: 0.2403 - accuracy: 0.8423\n",
            "Epoch 39: val_accuracy did not improve from 0.50568\n",
            "586/586 [==============================] - 86s 147ms/step - loss: 0.2403 - accuracy: 0.8423 - val_loss: 2.5169 - val_accuracy: 0.5024\n",
            "Epoch 40/50\n",
            "586/586 [==============================] - ETA: 0s - loss: 0.2400 - accuracy: 0.8423\n",
            "Epoch 40: val_accuracy did not improve from 0.50568\n",
            "586/586 [==============================] - 86s 147ms/step - loss: 0.2400 - accuracy: 0.8423 - val_loss: 2.4947 - val_accuracy: 0.5046\n",
            "Epoch 41/50\n",
            "586/586 [==============================] - ETA: 0s - loss: 0.2385 - accuracy: 0.8423\n",
            "Epoch 41: val_accuracy did not improve from 0.50568\n",
            "586/586 [==============================] - 86s 147ms/step - loss: 0.2385 - accuracy: 0.8423 - val_loss: 2.6198 - val_accuracy: 0.5046\n",
            "Epoch 42/50\n",
            "586/586 [==============================] - ETA: 0s - loss: 0.2379 - accuracy: 0.8427\n",
            "Epoch 42: val_accuracy did not improve from 0.50568\n",
            "586/586 [==============================] - 86s 146ms/step - loss: 0.2379 - accuracy: 0.8427 - val_loss: 2.7369 - val_accuracy: 0.5043\n",
            "Epoch 43/50\n",
            "586/586 [==============================] - ETA: 0s - loss: 0.2374 - accuracy: 0.8420\n",
            "Epoch 43: val_accuracy did not improve from 0.50568\n",
            "586/586 [==============================] - 86s 146ms/step - loss: 0.2374 - accuracy: 0.8420 - val_loss: 2.6854 - val_accuracy: 0.5023\n",
            "Epoch 44/50\n",
            "586/586 [==============================] - ETA: 0s - loss: 0.2370 - accuracy: 0.8427\n",
            "Epoch 44: val_accuracy did not improve from 0.50568\n",
            "586/586 [==============================] - 86s 147ms/step - loss: 0.2370 - accuracy: 0.8427 - val_loss: 2.4656 - val_accuracy: 0.5047\n",
            "Epoch 45/50\n",
            "586/586 [==============================] - ETA: 0s - loss: 0.2360 - accuracy: 0.8432\n",
            "Epoch 45: val_accuracy did not improve from 0.50568\n",
            "586/586 [==============================] - 86s 147ms/step - loss: 0.2360 - accuracy: 0.8432 - val_loss: 2.4628 - val_accuracy: 0.5054\n",
            "Epoch 46/50\n",
            "586/586 [==============================] - ETA: 0s - loss: 0.2344 - accuracy: 0.8440\n",
            "Epoch 46: val_accuracy did not improve from 0.50568\n",
            "586/586 [==============================] - 86s 147ms/step - loss: 0.2344 - accuracy: 0.8440 - val_loss: 2.7686 - val_accuracy: 0.5032\n",
            "Epoch 47/50\n",
            "586/586 [==============================] - ETA: 0s - loss: 0.2334 - accuracy: 0.8446\n",
            "Epoch 47: val_accuracy did not improve from 0.50568\n",
            "586/586 [==============================] - 86s 147ms/step - loss: 0.2334 - accuracy: 0.8446 - val_loss: 2.7522 - val_accuracy: 0.5036\n",
            "Epoch 48/50\n",
            "586/586 [==============================] - ETA: 0s - loss: 0.2334 - accuracy: 0.8435\n",
            "Epoch 48: val_accuracy did not improve from 0.50568\n",
            "586/586 [==============================] - 86s 147ms/step - loss: 0.2334 - accuracy: 0.8435 - val_loss: 2.6298 - val_accuracy: 0.5050\n",
            "Epoch 49/50\n",
            "586/586 [==============================] - ETA: 0s - loss: 0.2335 - accuracy: 0.8432\n",
            "Epoch 49: val_accuracy did not improve from 0.50568\n",
            "586/586 [==============================] - 86s 147ms/step - loss: 0.2335 - accuracy: 0.8432 - val_loss: 2.6193 - val_accuracy: 0.5047\n",
            "Epoch 50/50\n",
            "586/586 [==============================] - ETA: 0s - loss: 0.2339 - accuracy: 0.8439\n",
            "Epoch 50: val_accuracy did not improve from 0.50568\n",
            "586/586 [==============================] - 86s 147ms/step - loss: 0.2339 - accuracy: 0.8439 - val_loss: 2.6326 - val_accuracy: 0.5044\n"
          ]
        }
      ],
      "source": [
        "#Creating checkpoint save\n",
        "checkpoint = ModelCheckpoint(\"saved_model.hdf5\", monitor='val_accuracy', verbose=1,\n",
        "    save_best_only=True, mode='max', save_freq='epoch',period=1)\n",
        "\n",
        "#Training the model\n",
        "history = model.fit([en_train_padded,my_train_padded],to_categorical(cl_train),verbose=1, epochs=EPOCHS, batch_size=BATCH_SIZE,\n",
        "                        validation_data=([en_dev_padded,my_dev_padded],to_categorical(cl_dev)),callbacks=[checkpoint])"
      ]
    },
    {
      "cell_type": "markdown",
      "id": "uVOSne971pt2",
      "metadata": {
        "id": "uVOSne971pt2"
      },
      "source": [
        "## Performing model evaluation and prediction"
      ]
    },
    {
      "cell_type": "code",
      "execution_count": 24,
      "id": "50f0a468-a416-427a-99c0-e2764ae8bf77",
      "metadata": {
        "colab": {
          "base_uri": "https://localhost:8080/"
        },
        "id": "50f0a468-a416-427a-99c0-e2764ae8bf77",
        "outputId": "26ae429c-3183-40ac-f15c-4b5c3cb0c5a5"
      },
      "outputs": [
        {
          "output_type": "stream",
          "name": "stdout",
          "text": [
            "1436/1436 [==============================] - 21s 14ms/step - loss: 2.6326 - accuracy: 0.5044\n",
            "Test loss: 2.6325674057006836\n",
            "Test accuracy: 0.504376232624054\n",
            "\n",
            "\n",
            "1250/1250 [==============================] - 17s 13ms/step\n",
            "Predicted classification:  [1 1 1 ... 1 0 1]\n",
            "Accuracy:  0.560375\n",
            "\n",
            "\n",
            "Confusion matrix:\n",
            " [[11277  8723]\n",
            " [ 8862 11138]]\n",
            "\n",
            "\n",
            "Classification report:\n",
            "               precision    recall  f1-score   support\n",
            "\n",
            "           0       0.56      0.56      0.56     20000\n",
            "           1       0.56      0.56      0.56     20000\n",
            "\n",
            "    accuracy                           0.56     40000\n",
            "   macro avg       0.56      0.56      0.56     40000\n",
            "weighted avg       0.56      0.56      0.56     40000\n",
            "\n"
          ]
        }
      ],
      "source": [
        "#Evaluation model\n",
        "evaluation = model.evaluate([en_dev_padded,my_dev_padded],to_categorical(cl_dev))\n",
        "print('Test loss:',evaluation[0]) \n",
        "print('Test accuracy:',evaluation[1])\n",
        "print(\"\\n\")\n",
        "\n",
        "#predicting the output and accuracy\n",
        "y_pred = model.predict([en_test_padded,my_test_padded])\n",
        "pred = np.argmax(y_pred,axis=1)\n",
        "\n",
        "#Changing the classification list to int array\n",
        "y_true = np.array(cl_test,dtype=int)\n",
        "\n",
        "print(\"Predicted classification: \", pred)\n",
        "accuracy = accuracy_score(y_true, pred)\n",
        "print(\"Accuracy: \", accuracy)\n",
        "print(\"\\n\")\n",
        "\n",
        "print(\"Confusion matrix:\\n\",confusion_matrix(y_true,pred))\n",
        "print(\"\\n\")\n",
        "print(\"Classification report:\\n\",classification_report(y_true,pred))"
      ]
    },
    {
      "cell_type": "markdown",
      "id": "TRFHREtvQjF-",
      "metadata": {
        "id": "TRFHREtvQjF-"
      },
      "source": [
        "## Plotting the Model Accuracy and Model Loss"
      ]
    },
    {
      "cell_type": "code",
      "execution_count": 25,
      "id": "5ZGuc24fQgOI",
      "metadata": {
        "colab": {
          "base_uri": "https://localhost:8080/",
          "height": 295
        },
        "id": "5ZGuc24fQgOI",
        "outputId": "c09e4693-fc0b-45c1-8329-826839f5cd03"
      },
      "outputs": [
        {
          "output_type": "display_data",
          "data": {
            "text/plain": [
              "<Figure size 432x288 with 1 Axes>"
            ],
            "image/png": "[encoded data removed]"
          },
          "metadata": {
            "needs_background": "light"
          }
        }
      ],
      "source": [
        "from matplotlib import pyplot as plt\n",
        "plt.plot(history.history['accuracy'])\n",
        "plt.plot(history.history['val_accuracy'])\n",
        "plt.title('Model Accuracy')\n",
        "plt.ylabel('Accuracy')\n",
        "plt.xlabel('Epoch')\n",
        "plt.legend(['train', 'val'], loc='upper left')\n",
        "plt.show()"
      ]
    },
    {
      "cell_type": "code",
      "execution_count": 26,
      "id": "kp5uOYkpQdKD",
      "metadata": {
        "colab": {
          "base_uri": "https://localhost:8080/",
          "height": 295
        },
        "id": "kp5uOYkpQdKD",
        "outputId": "0a5520ee-0b6e-48f2-dd1b-f796f9a262cd"
      },
      "outputs": [
        {
          "output_type": "display_data",
          "data": {
            "text/plain": [
              "<Figure size 432x288 with 1 Axes>"
            ],
            "image/png": "[encoded data removed]"
          },
          "metadata": {
            "needs_background": "light"
          }
        }
      ],
      "source": [
        "plt.plot(history.history['loss'])\n",
        "plt.plot(history.history['val_loss'])\n",
        "plt.title('Model Loss')\n",
        "plt.ylabel('Loss')\n",
        "plt.xlabel('Epoch')\n",
        "plt.legend(['train', 'val'], loc='upper left')\n",
        "plt.show()"
      ]
    }
  ],
  "metadata": {
    "accelerator": "GPU",
    "colab": {
      "provenance": []
    },
    "gpuClass": "standard",
    "kernelspec": {
      "display_name": "Python 3 (ipykernel)",
      "language": "python",
      "name": "python3"
    },
    "language_info": {
      "codemirror_mode": {
        "name": "ipython",
        "version": 3
      },
      "file_extension": ".py",
      "mimetype": "text/x-python",
      "name": "python",
      "nbconvert_exporter": "python",
      "pygments_lexer": "ipython3",
      "version": "3.10.9"
    }
  },
  "nbformat": 4,
  "nbformat_minor": 5
}